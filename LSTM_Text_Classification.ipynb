{
  "nbformat": 4,
  "nbformat_minor": 0,
  "metadata": {
    "colab": {
      "provenance": [],
      "gpuType": "T4",
      "include_colab_link": true
    },
    "kernelspec": {
      "name": "python3",
      "display_name": "Python 3"
    },
    "language_info": {
      "name": "python"
    },
    "accelerator": "GPU"
  },
  "cells": [
    {
      "cell_type": "markdown",
      "metadata": {
        "id": "view-in-github",
        "colab_type": "text"
      },
      "source": [
        "<a href=\"https://colab.research.google.com/github/it21109126/lstm-text-classification/blob/main/LSTM_Text_Classification.ipynb\" target=\"_parent\"><img src=\"https://colab.research.google.com/assets/colab-badge.svg\" alt=\"Open In Colab\"/></a>"
      ]
    },
    {
      "cell_type": "code",
      "source": [
        "# Optional\n",
        "!wget -O CNN_Articels_clean_2.csv https://media.githubusercontent.com/media/it21109126/lstm-text-classification/refs/heads/main/CNN_Articels_clean_2.csv?token=AU2RNF5QHXRWHLUGNCNGECTHABRSC"
      ],
      "metadata": {
        "colab": {
          "base_uri": "https://localhost:8080/"
        },
        "id": "lfxDbccpQLCF",
        "outputId": "6da164c0-de87-4dfc-e89d-cf144549bab0"
      },
      "execution_count": 1,
      "outputs": [
        {
          "output_type": "stream",
          "name": "stdout",
          "text": [
            "--2024-10-04 20:51:02--  https://media.githubusercontent.com/media/it21109126/lstm-text-classification/refs/heads/main/CNN_Articels_clean_2.csv?token=AU2RNF5QHXRWHLUGNCNGECTHABRSC\n",
            "Resolving media.githubusercontent.com (media.githubusercontent.com)... 185.199.108.133, 185.199.109.133, 185.199.110.133, ...\n",
            "Connecting to media.githubusercontent.com (media.githubusercontent.com)|185.199.108.133|:443... connected.\n",
            "HTTP request sent, awaiting response... 200 OK\n",
            "Length: 240602056 (229M) [text/plain]\n",
            "Saving to: ‘CNN_Articels_clean_2.csv’\n",
            "\n",
            "CNN_Articels_clean_ 100%[===================>] 229.46M   191MB/s    in 1.2s    \n",
            "\n",
            "2024-10-04 20:51:03 (191 MB/s) - ‘CNN_Articels_clean_2.csv’ saved [240602056/240602056]\n",
            "\n"
          ]
        }
      ]
    },
    {
      "cell_type": "code",
      "source": [
        "import pandas as pd"
      ],
      "metadata": {
        "id": "dRqo-wFctrpm"
      },
      "execution_count": 2,
      "outputs": []
    },
    {
      "cell_type": "code",
      "execution_count": 3,
      "metadata": {
        "id": "TOoGOXzIeA-O"
      },
      "outputs": [],
      "source": [
        "# Load the dataset\n",
        "df = pd.read_csv('CNN_Articels_clean_2.csv')"
      ]
    },
    {
      "cell_type": "code",
      "source": [
        "extracted_df = df[['Article text', 'Category']]\n",
        "print(extracted_df.head())\n",
        "print(f'Shape : {extracted_df.shape}')"
      ],
      "metadata": {
        "id": "dl5FjdOAt1sH",
        "outputId": "266d0e39-2014-417b-ed03-8362c651324a",
        "colab": {
          "base_uri": "https://localhost:8080/"
        }
      },
      "execution_count": 4,
      "outputs": [
        {
          "output_type": "stream",
          "name": "stdout",
          "text": [
            "                                        Article text  Category\n",
            "0   (CNN)Right now, there's a shortage of truck d...      news\n",
            "1   (CNN)Working in a factory or warehouse can me...      news\n",
            "2   (CNN)In a Hong Kong warehouse, a swarm of aut...      news\n",
            "3  The pandemic thrust the working world into a n...  business\n",
            "4  New York (CNN Business)March Madness isn't jus...  business\n",
            "Shape : (37949, 2)\n"
          ]
        }
      ]
    },
    {
      "cell_type": "markdown",
      "source": [
        "# Data Preprocessing\n",
        "1. **Handling Missing/Duplicate Values:** Dropping rows having missing/duplicate values.\n",
        "2. **Text Cleaning:** Lowercasing, punctuation removal, stop words removal, and stemming/lemmatization.\n",
        "3. **Tokenization:** Convert text to integer sequences.\n",
        "4. **Padding:** Ensure sequences are of equal length.\n",
        "5. **Label Encoding:** Encode labels into numerical format.\n",
        "6. **Train-Test Split:** Split data into training and testing sets.\n",
        "7. **Word Embeddings:** Optionally use pre-trained embeddings to initialize word vectors.\n",
        "8. **Batching:** Train the model using mini-batches during training."
      ],
      "metadata": {
        "id": "pDyU4FuHtSuQ"
      }
    },
    {
      "cell_type": "code",
      "source": [
        "# Drop rows having missing values in either 'Article text' or 'Category' columns\n",
        "extracted_df = extracted_df.dropna()\n",
        "print(extracted_df.head())\n",
        "print(f'Shape : {extracted_df.shape}')"
      ],
      "metadata": {
        "id": "jjycvGVnCRFf",
        "outputId": "165ef5fd-82df-44cd-c6c2-6800047f03db",
        "colab": {
          "base_uri": "https://localhost:8080/"
        }
      },
      "execution_count": 5,
      "outputs": [
        {
          "output_type": "stream",
          "name": "stdout",
          "text": [
            "                                        Article text  Category\n",
            "0   (CNN)Right now, there's a shortage of truck d...      news\n",
            "1   (CNN)Working in a factory or warehouse can me...      news\n",
            "2   (CNN)In a Hong Kong warehouse, a swarm of aut...      news\n",
            "3  The pandemic thrust the working world into a n...  business\n",
            "4  New York (CNN Business)March Madness isn't jus...  business\n",
            "Shape : (37940, 2)\n"
          ]
        }
      ]
    },
    {
      "cell_type": "code",
      "source": [
        "# Drop duplicate rows\n",
        "extracted_df.drop_duplicates(inplace=True)\n",
        "print(extracted_df.head())\n",
        "print(f'Shape : {extracted_df.shape}')"
      ],
      "metadata": {
        "id": "kD_YEsuw7Hbm",
        "outputId": "14eb0add-2cc0-4da1-ba75-45139592f516",
        "colab": {
          "base_uri": "https://localhost:8080/"
        }
      },
      "execution_count": 6,
      "outputs": [
        {
          "output_type": "stream",
          "name": "stdout",
          "text": [
            "                                        Article text  Category\n",
            "0   (CNN)Right now, there's a shortage of truck d...      news\n",
            "1   (CNN)Working in a factory or warehouse can me...      news\n",
            "2   (CNN)In a Hong Kong warehouse, a swarm of aut...      news\n",
            "3  The pandemic thrust the working world into a n...  business\n",
            "4  New York (CNN Business)March Madness isn't jus...  business\n",
            "Shape : (37919, 2)\n"
          ]
        }
      ]
    },
    {
      "cell_type": "code",
      "source": [
        "import re"
      ],
      "metadata": {
        "id": "myIim5d2vmWu"
      },
      "execution_count": 7,
      "outputs": []
    },
    {
      "cell_type": "code",
      "source": [
        "# Data cleaning function\n",
        "def clean_text(text):\n",
        "  text = re.sub(r'http\\S+', '', text)  # Remove URLs\n",
        "  text = re.sub(r'<.*?>', '', text)    # Remove HTML tags\n",
        "  text = re.sub(r'[^a-zA-Z\\s]', '', text)  # Remove special characters and numbers\n",
        "  text = re.sub(r'[\\x00-\\x1F\\x7F-\\x9F]', '', text) # Remove control characters\n",
        "  text = text.strip() # Remove leading and trailing whitespaces\n",
        "  text = text.lower()  # Convert to lowercase\n",
        "  return text"
      ],
      "metadata": {
        "id": "BZ17NXi0ulRD"
      },
      "execution_count": 8,
      "outputs": []
    },
    {
      "cell_type": "code",
      "source": [
        "# Clean the data\n",
        "extracted_df['cleaned_text'] = extracted_df['Article text'].astype(str).apply(clean_text)\n",
        "print(extracted_df.head())\n",
        "print(f'Shape : {extracted_df.shape}')"
      ],
      "metadata": {
        "id": "tn3FnSPNyQfq",
        "colab": {
          "base_uri": "https://localhost:8080/"
        },
        "outputId": "609b5139-a0eb-417e-bae9-aa130876667a"
      },
      "execution_count": 9,
      "outputs": [
        {
          "output_type": "stream",
          "name": "stdout",
          "text": [
            "                                        Article text  Category  \\\n",
            "0   (CNN)Right now, there's a shortage of truck d...      news   \n",
            "1   (CNN)Working in a factory or warehouse can me...      news   \n",
            "2   (CNN)In a Hong Kong warehouse, a swarm of aut...      news   \n",
            "3  The pandemic thrust the working world into a n...  business   \n",
            "4  New York (CNN Business)March Madness isn't jus...  business   \n",
            "\n",
            "                                        cleaned_text  \n",
            "0  cnnright now theres a shortage of truck driver...  \n",
            "1  cnnworking in a factory or warehouse can mean ...  \n",
            "2  cnnin a hong kong warehouse a swarm of autonom...  \n",
            "3  the pandemic thrust the working world into a n...  \n",
            "4  new york cnn businessmarch madness isnt just f...  \n",
            "Shape : (37919, 3)\n"
          ]
        }
      ]
    },
    {
      "cell_type": "code",
      "source": [
        "import nltk\n",
        "nltk.download('wordnet')\n",
        "\n",
        "from nltk.stem import WordNetLemmatizer"
      ],
      "metadata": {
        "id": "M7PEGriC1B1P",
        "outputId": "d95d03d7-a2fe-4db5-976b-41a4c9941210",
        "colab": {
          "base_uri": "https://localhost:8080/"
        }
      },
      "execution_count": 10,
      "outputs": [
        {
          "output_type": "stream",
          "name": "stderr",
          "text": [
            "[nltk_data] Downloading package wordnet to /root/nltk_data...\n"
          ]
        }
      ]
    },
    {
      "cell_type": "code",
      "source": [
        "# Text normalization via lemmatization\n",
        "lemmatizer = WordNetLemmatizer()\n",
        "\n",
        "def lemmatize_text(text):\n",
        "  return ' '.join([lemmatizer.lemmatize(word) for word in text.split()])\n",
        "\n",
        "extracted_df['lemmatized_text'] = extracted_df['cleaned_text'].apply(lemmatize_text)\n",
        "print(extracted_df.head())\n",
        "print(f'Shape : {extracted_df.shape}')"
      ],
      "metadata": {
        "id": "TrACHYK9z0G3",
        "outputId": "cf4bf642-f580-4c87-bd69-d45b581bae90",
        "colab": {
          "base_uri": "https://localhost:8080/"
        }
      },
      "execution_count": 11,
      "outputs": [
        {
          "output_type": "stream",
          "name": "stdout",
          "text": [
            "                                        Article text  Category  \\\n",
            "0   (CNN)Right now, there's a shortage of truck d...      news   \n",
            "1   (CNN)Working in a factory or warehouse can me...      news   \n",
            "2   (CNN)In a Hong Kong warehouse, a swarm of aut...      news   \n",
            "3  The pandemic thrust the working world into a n...  business   \n",
            "4  New York (CNN Business)March Madness isn't jus...  business   \n",
            "\n",
            "                                        cleaned_text  \\\n",
            "0  cnnright now theres a shortage of truck driver...   \n",
            "1  cnnworking in a factory or warehouse can mean ...   \n",
            "2  cnnin a hong kong warehouse a swarm of autonom...   \n",
            "3  the pandemic thrust the working world into a n...   \n",
            "4  new york cnn businessmarch madness isnt just f...   \n",
            "\n",
            "                                     lemmatized_text  \n",
            "0  cnnright now there a shortage of truck driver ...  \n",
            "1  cnnworking in a factory or warehouse can mean ...  \n",
            "2  cnnin a hong kong warehouse a swarm of autonom...  \n",
            "3  the pandemic thrust the working world into a n...  \n",
            "4  new york cnn businessmarch madness isnt just f...  \n",
            "Shape : (37919, 4)\n"
          ]
        }
      ]
    },
    {
      "cell_type": "code",
      "source": [
        "nltk.download('stopwords')\n",
        "from nltk.corpus import stopwords"
      ],
      "metadata": {
        "id": "xNOy15-a1kRX",
        "outputId": "0168ce51-698c-495e-8595-c5e0d4d0e1a0",
        "colab": {
          "base_uri": "https://localhost:8080/"
        }
      },
      "execution_count": 12,
      "outputs": [
        {
          "output_type": "stream",
          "name": "stderr",
          "text": [
            "[nltk_data] Downloading package stopwords to /root/nltk_data...\n",
            "[nltk_data]   Unzipping corpora/stopwords.zip.\n"
          ]
        }
      ]
    },
    {
      "cell_type": "code",
      "source": [
        "# Removing stop words (common words like 'is, are' etc.)\n",
        "stop_words = set(stopwords.words('english'))\n",
        "\n",
        "def remove_stopwords(text):\n",
        "    return ' '.join([word for word in text.split() if word not in stop_words])\n",
        "\n",
        "extracted_df['final_text'] = extracted_df['lemmatized_text'].apply(remove_stopwords)\n",
        "print(extracted_df.head())\n",
        "print(f'Shape : {extracted_df.shape}')"
      ],
      "metadata": {
        "id": "ZFx5aTTI0-et",
        "outputId": "11bb9ef6-c92a-45ab-8a4e-dc011057ee55",
        "colab": {
          "base_uri": "https://localhost:8080/"
        }
      },
      "execution_count": 13,
      "outputs": [
        {
          "output_type": "stream",
          "name": "stdout",
          "text": [
            "                                        Article text  Category  \\\n",
            "0   (CNN)Right now, there's a shortage of truck d...      news   \n",
            "1   (CNN)Working in a factory or warehouse can me...      news   \n",
            "2   (CNN)In a Hong Kong warehouse, a swarm of aut...      news   \n",
            "3  The pandemic thrust the working world into a n...  business   \n",
            "4  New York (CNN Business)March Madness isn't jus...  business   \n",
            "\n",
            "                                        cleaned_text  \\\n",
            "0  cnnright now theres a shortage of truck driver...   \n",
            "1  cnnworking in a factory or warehouse can mean ...   \n",
            "2  cnnin a hong kong warehouse a swarm of autonom...   \n",
            "3  the pandemic thrust the working world into a n...   \n",
            "4  new york cnn businessmarch madness isnt just f...   \n",
            "\n",
            "                                     lemmatized_text  \\\n",
            "0  cnnright now there a shortage of truck driver ...   \n",
            "1  cnnworking in a factory or warehouse can mean ...   \n",
            "2  cnnin a hong kong warehouse a swarm of autonom...   \n",
            "3  the pandemic thrust the working world into a n...   \n",
            "4  new york cnn businessmarch madness isnt just f...   \n",
            "\n",
            "                                          final_text  \n",
            "0  cnnright shortage truck driver u worldwide exa...  \n",
            "1  cnnworking factory warehouse mean task repetit...  \n",
            "2  cnnin hong kong warehouse swarm autonomous rob...  \n",
            "3  pandemic thrust working world new reality marc...  \n",
            "4  new york cnn businessmarch madness isnt colleg...  \n",
            "Shape : (37919, 5)\n"
          ]
        }
      ]
    },
    {
      "cell_type": "code",
      "source": [
        "from tensorflow.keras.preprocessing.text import Tokenizer"
      ],
      "metadata": {
        "id": "AuZHqGqeVGht"
      },
      "execution_count": 14,
      "outputs": []
    },
    {
      "cell_type": "code",
      "source": [
        "# Tokenization\n",
        "tokenizer = Tokenizer()\n",
        "tokenizer.fit_on_texts(extracted_df['final_text'])"
      ],
      "metadata": {
        "id": "sd52RcZsU9e-"
      },
      "execution_count": 15,
      "outputs": []
    },
    {
      "cell_type": "code",
      "source": [
        "from tensorflow.keras.preprocessing.sequence import pad_sequences"
      ],
      "metadata": {
        "id": "SP2q_N3aVH2X"
      },
      "execution_count": 16,
      "outputs": []
    },
    {
      "cell_type": "code",
      "source": [
        "# Convert texts to sequences\n",
        "sequences = tokenizer.texts_to_sequences(extracted_df['final_text'])\n",
        "\n",
        "# Pad sequences to ensure uniform length\n",
        "max_length = max([len(seq) for seq in sequences])\n",
        "padded_sequences = pad_sequences(sequences, maxlen=max_length, padding='post')\n",
        "padded_sequences"
      ],
      "metadata": {
        "id": "bPUMio0D1gsC",
        "outputId": "ddf48d2b-5cbd-4138-9dc3-e7c0ef30b3a7",
        "colab": {
          "base_uri": "https://localhost:8080/"
        }
      },
      "execution_count": 17,
      "outputs": [
        {
          "output_type": "execute_result",
          "data": {
            "text/plain": [
              "array([[113505,   3214,   1248, ...,      0,      0,      0],\n",
              "       [113512,   2941,   5851, ...,      0,      0,      0],\n",
              "       [  4194,   1100,   1231, ...,      0,      0,      0],\n",
              "       ...,\n",
              "       [ 35874,     63,   2112, ...,      0,      0,      0],\n",
              "       [   156,     60,   5950, ...,      0,      0,      0],\n",
              "       [ 12573,    156,     60, ...,      0,      0,      0]], dtype=int32)"
            ]
          },
          "metadata": {},
          "execution_count": 17
        }
      ]
    },
    {
      "cell_type": "code",
      "source": [
        "from sklearn.preprocessing import LabelEncoder"
      ],
      "metadata": {
        "id": "XhyUlTE2BzHX"
      },
      "execution_count": 18,
      "outputs": []
    },
    {
      "cell_type": "code",
      "source": [
        "# Label Encoding\n",
        "label_encoder = LabelEncoder()\n",
        "extracted_df['category_encoded'] = label_encoder.fit_transform(extracted_df['Category'])\n",
        "print(extracted_df.head())\n",
        "print(f'Shape : {extracted_df.shape}')"
      ],
      "metadata": {
        "id": "IH5FILjkBlSB",
        "outputId": "ffaf7279-1fe8-4ad2-d198-290065b5a293",
        "colab": {
          "base_uri": "https://localhost:8080/"
        }
      },
      "execution_count": 19,
      "outputs": [
        {
          "output_type": "stream",
          "name": "stdout",
          "text": [
            "                                        Article text  Category  \\\n",
            "0   (CNN)Right now, there's a shortage of truck d...      news   \n",
            "1   (CNN)Working in a factory or warehouse can me...      news   \n",
            "2   (CNN)In a Hong Kong warehouse, a swarm of aut...      news   \n",
            "3  The pandemic thrust the working world into a n...  business   \n",
            "4  New York (CNN Business)March Madness isn't jus...  business   \n",
            "\n",
            "                                        cleaned_text  \\\n",
            "0  cnnright now theres a shortage of truck driver...   \n",
            "1  cnnworking in a factory or warehouse can mean ...   \n",
            "2  cnnin a hong kong warehouse a swarm of autonom...   \n",
            "3  the pandemic thrust the working world into a n...   \n",
            "4  new york cnn businessmarch madness isnt just f...   \n",
            "\n",
            "                                     lemmatized_text  \\\n",
            "0  cnnright now there a shortage of truck driver ...   \n",
            "1  cnnworking in a factory or warehouse can mean ...   \n",
            "2  cnnin a hong kong warehouse a swarm of autonom...   \n",
            "3  the pandemic thrust the working world into a n...   \n",
            "4  new york cnn businessmarch madness isnt just f...   \n",
            "\n",
            "                                          final_text  category_encoded  \n",
            "0  cnnright shortage truck driver u worldwide exa...                 3  \n",
            "1  cnnworking factory warehouse mean task repetit...                 3  \n",
            "2  cnnin hong kong warehouse swarm autonomous rob...                 3  \n",
            "3  pandemic thrust working world new reality marc...                 0  \n",
            "4  new york cnn businessmarch madness isnt colleg...                 0  \n",
            "Shape : (37919, 6)\n"
          ]
        }
      ]
    },
    {
      "cell_type": "markdown",
      "source": [
        "# Model Building and Training"
      ],
      "metadata": {
        "id": "RQHppjypBOfB"
      }
    },
    {
      "cell_type": "code",
      "source": [
        "from sklearn.model_selection import train_test_split"
      ],
      "metadata": {
        "id": "RuNo7PUABfFO"
      },
      "execution_count": 20,
      "outputs": []
    },
    {
      "cell_type": "code",
      "source": [
        "X = padded_sequences\n",
        "y = extracted_df['category_encoded']\n",
        "\n",
        "# Split data into training and testing sets\n",
        "X_train, X_test, y_train, y_test = train_test_split(X, y, test_size=0.2, shuffle=True, random_state=42)\n",
        "\n",
        "# Further split training data into training and validation sets\n",
        "X_train, X_val, y_train, y_val = train_test_split(X_train, y_train, test_size=0.2, shuffle=True, random_state=42)"
      ],
      "metadata": {
        "id": "G453bI90BNrJ"
      },
      "execution_count": 21,
      "outputs": []
    },
    {
      "cell_type": "code",
      "source": [
        "from tensorflow.keras.models import Sequential\n",
        "from tensorflow.keras.layers import Embedding, LSTM, Dense, Bidirectional, Dropout, Input\n",
        "from tensorflow.keras.optimizers import Adam\n",
        "from tensorflow.keras.regularizers import l2"
      ],
      "metadata": {
        "id": "7agM-IIRDs9-"
      },
      "execution_count": 22,
      "outputs": []
    },
    {
      "cell_type": "code",
      "source": [
        "# Hyperparameters\n",
        "embedding_dim = 32\n",
        "lstm_units = embedding_dim\n",
        "learning_rate = 0.01\n",
        "dropout_rate = 0.5\n",
        "l2_regularization = 0.05\n",
        "output_units = extracted_df['category_encoded'].nunique()\n",
        "\n",
        "# Build the Bi-LSTM model\n",
        "model = Sequential([\n",
        "    Input(shape=(max_length,)),\n",
        "    Embedding(input_dim=len(tokenizer.word_index) + 1, output_dim=embedding_dim),\n",
        "    Bidirectional(\n",
        "        LSTM(lstm_units, return_sequences=True)\n",
        "    ),\n",
        "    Dropout(dropout_rate),\n",
        "    Bidirectional(\n",
        "        LSTM(lstm_units)\n",
        "    ),\n",
        "    Dense(output_units, activation='softmax', kernel_regularizer=l2(l2_regularization))\n",
        "])\n",
        "\n",
        "# Model summary\n",
        "model.summary()\n",
        "\n",
        "# Compile the model\n",
        "model.compile(optimizer=Adam(learning_rate=learning_rate), loss='sparse_categorical_crossentropy', metrics=['accuracy'])"
      ],
      "metadata": {
        "id": "euB-bxFRDpO2",
        "outputId": "6594ed51-ea37-4494-9dc7-6117b84c2efd",
        "colab": {
          "base_uri": "https://localhost:8080/",
          "height": 306
        }
      },
      "execution_count": 23,
      "outputs": [
        {
          "output_type": "display_data",
          "data": {
            "text/plain": [
              "\u001b[1mModel: \"sequential\"\u001b[0m\n"
            ],
            "text/html": [
              "<pre style=\"white-space:pre;overflow-x:auto;line-height:normal;font-family:Menlo,'DejaVu Sans Mono',consolas,'Courier New',monospace\"><span style=\"font-weight: bold\">Model: \"sequential\"</span>\n",
              "</pre>\n"
            ]
          },
          "metadata": {}
        },
        {
          "output_type": "display_data",
          "data": {
            "text/plain": [
              "┏━━━━━━━━━━━━━━━━━━━━━━━━━━━━━━━━━━━━━━┳━━━━━━━━━━━━━━━━━━━━━━━━━━━━━┳━━━━━━━━━━━━━━━━━┓\n",
              "┃\u001b[1m \u001b[0m\u001b[1mLayer (type)                        \u001b[0m\u001b[1m \u001b[0m┃\u001b[1m \u001b[0m\u001b[1mOutput Shape               \u001b[0m\u001b[1m \u001b[0m┃\u001b[1m \u001b[0m\u001b[1m        Param #\u001b[0m\u001b[1m \u001b[0m┃\n",
              "┡━━━━━━━━━━━━━━━━━━━━━━━━━━━━━━━━━━━━━━╇━━━━━━━━━━━━━━━━━━━━━━━━━━━━━╇━━━━━━━━━━━━━━━━━┩\n",
              "│ embedding (\u001b[38;5;33mEmbedding\u001b[0m)                │ (\u001b[38;5;45mNone\u001b[0m, \u001b[38;5;34m10340\u001b[0m, \u001b[38;5;34m32\u001b[0m)           │      \u001b[38;5;34m20,951,456\u001b[0m │\n",
              "├──────────────────────────────────────┼─────────────────────────────┼─────────────────┤\n",
              "│ bidirectional (\u001b[38;5;33mBidirectional\u001b[0m)        │ (\u001b[38;5;45mNone\u001b[0m, \u001b[38;5;34m10340\u001b[0m, \u001b[38;5;34m64\u001b[0m)           │          \u001b[38;5;34m16,640\u001b[0m │\n",
              "├──────────────────────────────────────┼─────────────────────────────┼─────────────────┤\n",
              "│ dropout (\u001b[38;5;33mDropout\u001b[0m)                    │ (\u001b[38;5;45mNone\u001b[0m, \u001b[38;5;34m10340\u001b[0m, \u001b[38;5;34m64\u001b[0m)           │               \u001b[38;5;34m0\u001b[0m │\n",
              "├──────────────────────────────────────┼─────────────────────────────┼─────────────────┤\n",
              "│ bidirectional_1 (\u001b[38;5;33mBidirectional\u001b[0m)      │ (\u001b[38;5;45mNone\u001b[0m, \u001b[38;5;34m64\u001b[0m)                  │          \u001b[38;5;34m24,832\u001b[0m │\n",
              "├──────────────────────────────────────┼─────────────────────────────┼─────────────────┤\n",
              "│ dense (\u001b[38;5;33mDense\u001b[0m)                        │ (\u001b[38;5;45mNone\u001b[0m, \u001b[38;5;34m9\u001b[0m)                   │             \u001b[38;5;34m585\u001b[0m │\n",
              "└──────────────────────────────────────┴─────────────────────────────┴─────────────────┘\n"
            ],
            "text/html": [
              "<pre style=\"white-space:pre;overflow-x:auto;line-height:normal;font-family:Menlo,'DejaVu Sans Mono',consolas,'Courier New',monospace\">┏━━━━━━━━━━━━━━━━━━━━━━━━━━━━━━━━━━━━━━┳━━━━━━━━━━━━━━━━━━━━━━━━━━━━━┳━━━━━━━━━━━━━━━━━┓\n",
              "┃<span style=\"font-weight: bold\"> Layer (type)                         </span>┃<span style=\"font-weight: bold\"> Output Shape                </span>┃<span style=\"font-weight: bold\">         Param # </span>┃\n",
              "┡━━━━━━━━━━━━━━━━━━━━━━━━━━━━━━━━━━━━━━╇━━━━━━━━━━━━━━━━━━━━━━━━━━━━━╇━━━━━━━━━━━━━━━━━┩\n",
              "│ embedding (<span style=\"color: #0087ff; text-decoration-color: #0087ff\">Embedding</span>)                │ (<span style=\"color: #00d7ff; text-decoration-color: #00d7ff\">None</span>, <span style=\"color: #00af00; text-decoration-color: #00af00\">10340</span>, <span style=\"color: #00af00; text-decoration-color: #00af00\">32</span>)           │      <span style=\"color: #00af00; text-decoration-color: #00af00\">20,951,456</span> │\n",
              "├──────────────────────────────────────┼─────────────────────────────┼─────────────────┤\n",
              "│ bidirectional (<span style=\"color: #0087ff; text-decoration-color: #0087ff\">Bidirectional</span>)        │ (<span style=\"color: #00d7ff; text-decoration-color: #00d7ff\">None</span>, <span style=\"color: #00af00; text-decoration-color: #00af00\">10340</span>, <span style=\"color: #00af00; text-decoration-color: #00af00\">64</span>)           │          <span style=\"color: #00af00; text-decoration-color: #00af00\">16,640</span> │\n",
              "├──────────────────────────────────────┼─────────────────────────────┼─────────────────┤\n",
              "│ dropout (<span style=\"color: #0087ff; text-decoration-color: #0087ff\">Dropout</span>)                    │ (<span style=\"color: #00d7ff; text-decoration-color: #00d7ff\">None</span>, <span style=\"color: #00af00; text-decoration-color: #00af00\">10340</span>, <span style=\"color: #00af00; text-decoration-color: #00af00\">64</span>)           │               <span style=\"color: #00af00; text-decoration-color: #00af00\">0</span> │\n",
              "├──────────────────────────────────────┼─────────────────────────────┼─────────────────┤\n",
              "│ bidirectional_1 (<span style=\"color: #0087ff; text-decoration-color: #0087ff\">Bidirectional</span>)      │ (<span style=\"color: #00d7ff; text-decoration-color: #00d7ff\">None</span>, <span style=\"color: #00af00; text-decoration-color: #00af00\">64</span>)                  │          <span style=\"color: #00af00; text-decoration-color: #00af00\">24,832</span> │\n",
              "├──────────────────────────────────────┼─────────────────────────────┼─────────────────┤\n",
              "│ dense (<span style=\"color: #0087ff; text-decoration-color: #0087ff\">Dense</span>)                        │ (<span style=\"color: #00d7ff; text-decoration-color: #00d7ff\">None</span>, <span style=\"color: #00af00; text-decoration-color: #00af00\">9</span>)                   │             <span style=\"color: #00af00; text-decoration-color: #00af00\">585</span> │\n",
              "└──────────────────────────────────────┴─────────────────────────────┴─────────────────┘\n",
              "</pre>\n"
            ]
          },
          "metadata": {}
        },
        {
          "output_type": "display_data",
          "data": {
            "text/plain": [
              "\u001b[1m Total params: \u001b[0m\u001b[38;5;34m20,993,513\u001b[0m (80.08 MB)\n"
            ],
            "text/html": [
              "<pre style=\"white-space:pre;overflow-x:auto;line-height:normal;font-family:Menlo,'DejaVu Sans Mono',consolas,'Courier New',monospace\"><span style=\"font-weight: bold\"> Total params: </span><span style=\"color: #00af00; text-decoration-color: #00af00\">20,993,513</span> (80.08 MB)\n",
              "</pre>\n"
            ]
          },
          "metadata": {}
        },
        {
          "output_type": "display_data",
          "data": {
            "text/plain": [
              "\u001b[1m Trainable params: \u001b[0m\u001b[38;5;34m20,993,513\u001b[0m (80.08 MB)\n"
            ],
            "text/html": [
              "<pre style=\"white-space:pre;overflow-x:auto;line-height:normal;font-family:Menlo,'DejaVu Sans Mono',consolas,'Courier New',monospace\"><span style=\"font-weight: bold\"> Trainable params: </span><span style=\"color: #00af00; text-decoration-color: #00af00\">20,993,513</span> (80.08 MB)\n",
              "</pre>\n"
            ]
          },
          "metadata": {}
        },
        {
          "output_type": "display_data",
          "data": {
            "text/plain": [
              "\u001b[1m Non-trainable params: \u001b[0m\u001b[38;5;34m0\u001b[0m (0.00 B)\n"
            ],
            "text/html": [
              "<pre style=\"white-space:pre;overflow-x:auto;line-height:normal;font-family:Menlo,'DejaVu Sans Mono',consolas,'Courier New',monospace\"><span style=\"font-weight: bold\"> Non-trainable params: </span><span style=\"color: #00af00; text-decoration-color: #00af00\">0</span> (0.00 B)\n",
              "</pre>\n"
            ]
          },
          "metadata": {}
        }
      ]
    },
    {
      "cell_type": "code",
      "source": [
        "from tensorflow.keras.callbacks import EarlyStopping, ReduceLROnPlateau"
      ],
      "metadata": {
        "id": "WeBqXynShu53"
      },
      "execution_count": 24,
      "outputs": []
    },
    {
      "cell_type": "code",
      "source": [
        "# Callbacks\n",
        "early_stopping = EarlyStopping(monitor='val_loss', patience=5, restore_best_weights=True)"
      ],
      "metadata": {
        "id": "4pcwTpBFkHZB"
      },
      "execution_count": 25,
      "outputs": []
    },
    {
      "cell_type": "code",
      "source": [
        "# Hyperparameters\n",
        "batch_size = 100\n",
        "epochs = 20\n",
        "\n",
        "# Train the model\n",
        "history = model.fit(X_train, y_train, epochs=epochs, validation_data=(X_val, y_val), batch_size=batch_size, callbacks=[early_stopping])"
      ],
      "metadata": {
        "id": "vE23UjNHD_kv",
        "outputId": "7928635c-b38c-4e2b-95cc-43ef7b7abeac",
        "colab": {
          "base_uri": "https://localhost:8080/"
        }
      },
      "execution_count": 26,
      "outputs": [
        {
          "output_type": "stream",
          "name": "stdout",
          "text": [
            "Epoch 1/20\n",
            "\u001b[1m243/243\u001b[0m \u001b[32m━━━━━━━━━━━━━━━━━━━━\u001b[0m\u001b[37m\u001b[0m \u001b[1m304s\u001b[0m 1s/step - accuracy: 0.7428 - loss: 0.9764 - val_accuracy: 0.8597 - val_loss: 0.6092\n",
            "Epoch 2/20\n",
            "\u001b[1m243/243\u001b[0m \u001b[32m━━━━━━━━━━━━━━━━━━━━\u001b[0m\u001b[37m\u001b[0m \u001b[1m293s\u001b[0m 1s/step - accuracy: 0.9030 - loss: 0.4589 - val_accuracy: 0.8925 - val_loss: 0.4653\n",
            "Epoch 3/20\n",
            "\u001b[1m243/243\u001b[0m \u001b[32m━━━━━━━━━━━━━━━━━━━━\u001b[0m\u001b[37m\u001b[0m \u001b[1m322s\u001b[0m 1s/step - accuracy: 0.9178 - loss: 0.3779 - val_accuracy: 0.8957 - val_loss: 0.4417\n",
            "Epoch 4/20\n",
            "\u001b[1m243/243\u001b[0m \u001b[32m━━━━━━━━━━━━━━━━━━━━\u001b[0m\u001b[37m\u001b[0m \u001b[1m335s\u001b[0m 1s/step - accuracy: 0.9360 - loss: 0.3223 - val_accuracy: 0.9072 - val_loss: 0.4213\n",
            "Epoch 5/20\n",
            "\u001b[1m243/243\u001b[0m \u001b[32m━━━━━━━━━━━━━━━━━━━━\u001b[0m\u001b[37m\u001b[0m \u001b[1m306s\u001b[0m 1s/step - accuracy: 0.9522 - loss: 0.2854 - val_accuracy: 0.9072 - val_loss: 0.4369\n",
            "Epoch 6/20\n",
            "\u001b[1m243/243\u001b[0m \u001b[32m━━━━━━━━━━━━━━━━━━━━\u001b[0m\u001b[37m\u001b[0m \u001b[1m324s\u001b[0m 1s/step - accuracy: 0.9568 - loss: 0.2656 - val_accuracy: 0.9105 - val_loss: 0.4198\n",
            "Epoch 7/20\n",
            "\u001b[1m243/243\u001b[0m \u001b[32m━━━━━━━━━━━━━━━━━━━━\u001b[0m\u001b[37m\u001b[0m \u001b[1m321s\u001b[0m 1s/step - accuracy: 0.9626 - loss: 0.2455 - val_accuracy: 0.9149 - val_loss: 0.4139\n",
            "Epoch 8/20\n",
            "\u001b[1m243/243\u001b[0m \u001b[32m━━━━━━━━━━━━━━━━━━━━\u001b[0m\u001b[37m\u001b[0m \u001b[1m323s\u001b[0m 1s/step - accuracy: 0.9628 - loss: 0.2406 - val_accuracy: 0.9069 - val_loss: 0.4133\n",
            "Epoch 9/20\n",
            "\u001b[1m243/243\u001b[0m \u001b[32m━━━━━━━━━━━━━━━━━━━━\u001b[0m\u001b[37m\u001b[0m \u001b[1m291s\u001b[0m 1s/step - accuracy: 0.9643 - loss: 0.2307 - val_accuracy: 0.9080 - val_loss: 0.4115\n",
            "Epoch 10/20\n",
            "\u001b[1m243/243\u001b[0m \u001b[32m━━━━━━━━━━━━━━━━━━━━\u001b[0m\u001b[37m\u001b[0m \u001b[1m303s\u001b[0m 1s/step - accuracy: 0.9651 - loss: 0.2319 - val_accuracy: 0.9098 - val_loss: 0.4200\n",
            "Epoch 11/20\n",
            "\u001b[1m243/243\u001b[0m \u001b[32m━━━━━━━━━━━━━━━━━━━━\u001b[0m\u001b[37m\u001b[0m \u001b[1m309s\u001b[0m 1s/step - accuracy: 0.9672 - loss: 0.2232 - val_accuracy: 0.9133 - val_loss: 0.4207\n",
            "Epoch 12/20\n",
            "\u001b[1m243/243\u001b[0m \u001b[32m━━━━━━━━━━━━━━━━━━━━\u001b[0m\u001b[37m\u001b[0m \u001b[1m323s\u001b[0m 1s/step - accuracy: 0.9685 - loss: 0.2146 - val_accuracy: 0.9168 - val_loss: 0.4228\n",
            "Epoch 13/20\n",
            "\u001b[1m243/243\u001b[0m \u001b[32m━━━━━━━━━━━━━━━━━━━━\u001b[0m\u001b[37m\u001b[0m \u001b[1m322s\u001b[0m 1s/step - accuracy: 0.9707 - loss: 0.2120 - val_accuracy: 0.9125 - val_loss: 0.4383\n",
            "Epoch 14/20\n",
            "\u001b[1m243/243\u001b[0m \u001b[32m━━━━━━━━━━━━━━━━━━━━\u001b[0m\u001b[37m\u001b[0m \u001b[1m335s\u001b[0m 1s/step - accuracy: 0.9678 - loss: 0.2142 - val_accuracy: 0.9023 - val_loss: 0.4544\n"
          ]
        }
      ]
    },
    {
      "cell_type": "markdown",
      "source": [
        "# Model Evaluation"
      ],
      "metadata": {
        "id": "EfUZXxKAN9yI"
      }
    },
    {
      "cell_type": "code",
      "source": [
        "import matplotlib.pyplot as plt"
      ],
      "metadata": {
        "id": "e1iuywzdZfRo"
      },
      "execution_count": 27,
      "outputs": []
    },
    {
      "cell_type": "code",
      "source": [
        "plt.plot(history.history['accuracy'])\n",
        "plt.plot(history.history['val_accuracy'])\n",
        "plt.title('Model accuracy')\n",
        "plt.ylabel('Accuracy')\n",
        "plt.xlabel('Epoch')\n",
        "plt.legend(['Train', 'Validation'], loc='upper left')\n",
        "plt.show()\n",
        "\n",
        "plt.plot(history.history['loss'])\n",
        "plt.plot(history.history['val_loss'])\n",
        "plt.title('Model loss')\n",
        "plt.ylabel('Loss')\n",
        "plt.xlabel('Epoch')\n",
        "plt.legend(['Train', 'Validation'], loc='upper left')\n",
        "plt.show()"
      ],
      "metadata": {
        "id": "73h85vbPZtjT",
        "outputId": "abdaed77-9546-4473-ed27-d4ca785deb17",
        "colab": {
          "base_uri": "https://localhost:8080/",
          "height": 927
        }
      },
      "execution_count": 28,
      "outputs": [
        {
          "output_type": "display_data",
          "data": {
            "text/plain": [
              "<Figure size 640x480 with 1 Axes>"
            ],
            "image/png": "[encoded data removed]"
          },
          "metadata": {}
        },
        {
          "output_type": "display_data",
          "data": {
            "text/plain": [
              "<Figure size 640x480 with 1 Axes>"
            ],
            "image/png": "[encoded data removed]"
          },
          "metadata": {}
        }
      ]
    },
    {
      "cell_type": "code",
      "source": [
        "# Save the trained model\n",
        "model.save('trained_bilstm_model.keras')"
      ],
      "metadata": {
        "id": "nj2_tPzc9ZNg"
      },
      "execution_count": 31,
      "outputs": []
    },
    {
      "cell_type": "code",
      "source": [
        "from tensorflow.keras.models import load_model\n",
        "\n",
        "# Load the pretrained model (Optional)\n",
        "model = load_model('trained_bilstm_model.keras')"
      ],
      "metadata": {
        "id": "50F19IYSoTA2"
      },
      "execution_count": null,
      "outputs": []
    },
    {
      "cell_type": "code",
      "source": [
        "# Evaluate on the test dataset\n",
        "test_loss, test_accuracy = model.evaluate(X_test, y_test, batch_size=batch_size)\n",
        "print(f'Test Loss: {test_loss}')\n",
        "print(f'Test Accuracy: {test_accuracy}')"
      ],
      "metadata": {
        "id": "ZX1nWwYUBXZx",
        "outputId": "10fbb2d0-aac6-4485-bb3e-4b3170f69a11",
        "colab": {
          "base_uri": "https://localhost:8080/"
        }
      },
      "execution_count": 32,
      "outputs": [
        {
          "output_type": "stream",
          "name": "stdout",
          "text": [
            "\u001b[1m76/76\u001b[0m \u001b[32m━━━━━━━━━━━━━━━━━━━━\u001b[0m\u001b[37m\u001b[0m \u001b[1m34s\u001b[0m 440ms/step - accuracy: 0.8924 - loss: 0.4631\n",
            "Test Loss: 0.43774935603141785\n",
            "Test Accuracy: 0.8995253443717957\n"
          ]
        }
      ]
    },
    {
      "cell_type": "code",
      "source": [
        "import seaborn as sns\n",
        "from sklearn.metrics import confusion_matrix\n",
        "import matplotlib.pyplot as plt"
      ],
      "metadata": {
        "id": "E2jfGmyTnJXA"
      },
      "execution_count": 33,
      "outputs": []
    },
    {
      "cell_type": "code",
      "source": [
        "# Predict classes for the test data\n",
        "y_pred = model.predict(X_test, batch_size=batch_size)\n",
        "y_pred_classes = y_pred.argmax(axis=1)\n",
        "\n",
        "# Generate confusion matrix\n",
        "cm = confusion_matrix(y_test, y_pred_classes)\n",
        "\n",
        "# Plot confusion matrix using Seaborn heatmap\n",
        "plt.figure(figsize=(10, 8))\n",
        "sns.heatmap(cm, annot=True, fmt='d', cmap='Blues', xticklabels=label_encoder.classes_, yticklabels=label_encoder.classes_)\n",
        "plt.title('Confusion Matrix')\n",
        "plt.xlabel('Predicted Label')\n",
        "plt.ylabel('True Label')\n",
        "plt.show()"
      ],
      "metadata": {
        "id": "TUnZnrsOnH3H",
        "outputId": "67eabb39-5993-49d8-faa4-71e9d75d5f09",
        "colab": {
          "base_uri": "https://localhost:8080/",
          "height": 821
        }
      },
      "execution_count": 35,
      "outputs": [
        {
          "output_type": "stream",
          "name": "stdout",
          "text": [
            "\u001b[1m76/76\u001b[0m \u001b[32m━━━━━━━━━━━━━━━━━━━━\u001b[0m\u001b[37m\u001b[0m \u001b[1m34s\u001b[0m 439ms/step\n"
          ]
        },
        {
          "output_type": "display_data",
          "data": {
            "text/plain": [
              "<Figure size 1000x800 with 2 Axes>"
            ],
            "image/png": "[encoded data removed]"
          },
          "metadata": {}
        }
      ]
    }
  ]
}