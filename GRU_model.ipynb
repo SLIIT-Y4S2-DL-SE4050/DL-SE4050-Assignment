{
  "nbformat": 4,
  "nbformat_minor": 0,
  "metadata": {
    "colab": {
      "provenance": [],
      "gpuType": "T4"
    },
    "kernelspec": {
      "name": "python3",
      "display_name": "Python 3"
    },
    "language_info": {
      "name": "python"
    },
    "accelerator": "GPU"
  },
  "cells": [
    {
      "cell_type": "markdown",
      "source": [
        "# Data Loading and Initial Exploration\n",
        "This section loads the CNN articles dataset, checks for missing values, summarizes the data types, and shows the distribution of article categories."
      ],
      "metadata": {
        "id": "EsGNRG4SLC6J"
      }
    },
    {
      "cell_type": "code",
      "execution_count": 3,
      "metadata": {
        "colab": {
          "base_uri": "https://localhost:8080/"
        },
        "id": "eWwCUuCh_GDD",
        "outputId": "555c6871-3cd4-42bc-b3f0-322ef63b35e1"
      },
      "outputs": [
        {
          "output_type": "stream",
          "name": "stdout",
          "text": [
            "First few rows of the dataset:\n",
            "   Index                                             Author  \\\n",
            "0      0                                 Jacopo Prisco, CNN   \n",
            "1      1                              Stephanie Bailey, CNN   \n",
            "2      2  Words by Stephanie Bailey, video by Zahra Jamshed   \n",
            "3      3                                     Kathryn Vasel    \n",
            "4      4                    Paul R. La Monica, CNN Business   \n",
            "\n",
            "        Date published  Category    Section  \\\n",
            "0  2021-07-15 02:46:59      news      world   \n",
            "1  2021-05-12 07:52:09      news      world   \n",
            "2  2021-06-16 02:51:30      news       asia   \n",
            "3  2022-03-18 14:37:21  business    success   \n",
            "4  2022-03-19 11:41:08  business  investing   \n",
            "\n",
            "                                                 Url  \\\n",
            "0  https://www.cnn.com/2021/07/14/world/tusimple-...   \n",
            "1  https://www.cnn.com/2021/05/12/world/ironhand-...   \n",
            "2  https://www.cnn.com/2021/06/15/asia/swarm-robo...   \n",
            "3  https://www.cnn.com/2022/03/18/success/pandemi...   \n",
            "4  https://www.cnn.com/2022/03/19/investing/march...   \n",
            "\n",
            "                                            Headline  \\\n",
            "0  There's a shortage of truckers, but TuSimple t...   \n",
            "1  Bioservo's robotic 'Ironhand' could protect fa...   \n",
            "2  This swarm of robots gets smarter the more it ...   \n",
            "3  Two years later, remote work has changed milli...   \n",
            "4          Why March is so volatile for stocks - CNN   \n",
            "\n",
            "                                         Description  \\\n",
            "0  The e-commerce boom has exacerbated a global t...   \n",
            "1  Working in a factory can mean doing the same t...   \n",
            "2  In a Hong Kong warehouse, a swarm of autonomou...   \n",
            "3  Here's a look at how the pandemic reshaped peo...   \n",
            "4  March Madness isn't just for college basketbal...   \n",
            "\n",
            "                                            Keywords  \\\n",
            "0  world, There's a shortage of truckers, but TuS...   \n",
            "1  world, Bioservo's robotic 'Ironhand' could pro...   \n",
            "2  asia, This swarm of robots gets smarter the mo...   \n",
            "3  success, Two years later, remote work has chan...   \n",
            "4  investing, Why March is so volatile for stocks...   \n",
            "\n",
            "                                     Second headline  \\\n",
            "0  There's a shortage of truckers, but TuSimple t...   \n",
            "1  A robotic 'Ironhand' could protect factory wor...   \n",
            "2  This swarm of robots gets smarter the more it ...   \n",
            "3  Two years later, remote work has changed milli...   \n",
            "4                Why March is so volatile for stocks   \n",
            "\n",
            "                                        Article text  \n",
            "0   (CNN)Right now, there's a shortage of truck d...  \n",
            "1   (CNN)Working in a factory or warehouse can me...  \n",
            "2   (CNN)In a Hong Kong warehouse, a swarm of aut...  \n",
            "3  The pandemic thrust the working world into a n...  \n",
            "4  New York (CNN Business)March Madness isn't jus...  \n",
            "\n",
            "Missing values in each column:\n",
            "Index              0\n",
            "Author             0\n",
            "Date published     0\n",
            "Category           0\n",
            "Section            0\n",
            "Url                0\n",
            "Headline           0\n",
            "Description        0\n",
            "Keywords           0\n",
            "Second headline    0\n",
            "Article text       9\n",
            "dtype: int64\n",
            "\n",
            "Data Summary:\n",
            "<class 'pandas.core.frame.DataFrame'>\n",
            "RangeIndex: 37949 entries, 0 to 37948\n",
            "Data columns (total 11 columns):\n",
            " #   Column           Non-Null Count  Dtype \n",
            "---  ------           --------------  ----- \n",
            " 0   Index            37949 non-null  int64 \n",
            " 1   Author           37949 non-null  object\n",
            " 2   Date published   37949 non-null  object\n",
            " 3   Category         37949 non-null  object\n",
            " 4   Section          37949 non-null  object\n",
            " 5   Url              37949 non-null  object\n",
            " 6   Headline         37949 non-null  object\n",
            " 7   Description      37949 non-null  object\n",
            " 8   Keywords         37949 non-null  object\n",
            " 9   Second headline  37949 non-null  object\n",
            " 10  Article text     37940 non-null  object\n",
            "dtypes: int64(1), object(10)\n",
            "memory usage: 3.2+ MB\n",
            "None\n",
            "\n",
            "Distribution of categories:\n",
            "Category\n",
            "news             18077\n",
            "sport            15542\n",
            "politics          2461\n",
            "business           854\n",
            "health             557\n",
            "entertainment      413\n",
            "travel              39\n",
            "vr                   5\n",
            "style                1\n",
            "Name: count, dtype: int64\n"
          ]
        }
      ],
      "source": [
        "import pandas as pd\n",
        "\n",
        "# Load the dataset\n",
        "df = pd.read_csv('CNN_Articels_clean.csv')\n",
        "\n",
        "# Check the first few rows of the dataset\n",
        "print(\"First few rows of the dataset:\")\n",
        "print(df.head())\n",
        "\n",
        "# Check for missing values\n",
        "print(\"\\nMissing values in each column:\")\n",
        "print(df.isnull().sum())\n",
        "\n",
        "# Get a summary of the data types and non-null counts\n",
        "print(\"\\nData Summary:\")\n",
        "print(df.info())\n",
        "\n",
        "# Check the distribution of categories\n",
        "print(\"\\nDistribution of categories:\")\n",
        "print(df['Category'].value_counts())"
      ]
    },
    {
      "cell_type": "markdown",
      "source": [],
      "metadata": {
        "id": "d8hhwPr4LPZm"
      }
    },
    {
      "cell_type": "markdown",
      "source": [
        "# Data Cleaning by Removing Missing Article Text\n",
        "Below section removes rows with missing values in the \"Article text\" column and then verifies that the column no longer contains any missing values."
      ],
      "metadata": {
        "id": "8GBjijY5LTzh"
      }
    },
    {
      "cell_type": "code",
      "source": [
        "# Drop rows with missing 'Article text'\n",
        "df_cleaned = df.dropna(subset=['Article text'])\n",
        "\n",
        "# Verify there are no more missing values in the 'Article text' column\n",
        "print(\"\\nMissing values after cleaning:\")\n",
        "print(df_cleaned.isnull().sum())"
      ],
      "metadata": {
        "colab": {
          "base_uri": "https://localhost:8080/"
        },
        "id": "TkNOpa9bArrM",
        "outputId": "2849b7a3-1f97-4409-a617-bc17ea64aee9"
      },
      "execution_count": 4,
      "outputs": [
        {
          "output_type": "stream",
          "name": "stdout",
          "text": [
            "\n",
            "Missing values after cleaning:\n",
            "Index              0\n",
            "Author             0\n",
            "Date published     0\n",
            "Category           0\n",
            "Section            0\n",
            "Url                0\n",
            "Headline           0\n",
            "Description        0\n",
            "Keywords           0\n",
            "Second headline    0\n",
            "Article text       0\n",
            "dtype: int64\n"
          ]
        }
      ]
    },
    {
      "cell_type": "markdown",
      "source": [
        "# Removing '(CNN)' from Article Text\n",
        "code defines a function to remove the phrase \"(CNN)\" from the \"Article text\" column, including variations like \"(cnn)\". The function is applied to clean the text, and the first few rows of the cleaned data are displayed to confirm the removal."
      ],
      "metadata": {
        "id": "43_CVL46MKbU"
      }
    },
    {
      "cell_type": "code",
      "source": [
        "import re\n",
        "\n",
        "# Function to remove the phrase '(CNN)' from the article text\n",
        "def remove_cnn_phrase(text):\n",
        "    # Remove variations of (CNN), (cnn), or extra spaces\n",
        "    return re.sub(r'\\(cnn\\)|\\(CNN\\)', '', text).strip()\n",
        "\n",
        "# Apply the function to the 'Article text' column\n",
        "df_cleaned['Article text'] = df_cleaned['Article text'].apply(remove_cnn_phrase)\n",
        "\n",
        "# Check if '(CNN)' was successfully removed\n",
        "print(df_cleaned['Article text'].head())\n"
      ],
      "metadata": {
        "colab": {
          "base_uri": "https://localhost:8080/"
        },
        "id": "7nK6Km-DAvla",
        "outputId": "4eb9abb5-9ec2-4c46-e7f5-2ba7bf9066a3"
      },
      "execution_count": 5,
      "outputs": [
        {
          "output_type": "stream",
          "name": "stdout",
          "text": [
            "0    Right now, there's a shortage of truck drivers...\n",
            "1    Working in a factory or warehouse can mean doi...\n",
            "2    In a Hong Kong warehouse, a swarm of autonomou...\n",
            "3    The pandemic thrust the working world into a n...\n",
            "4    New York (CNN Business)March Madness isn't jus...\n",
            "Name: Article text, dtype: object\n"
          ]
        },
        {
          "output_type": "stream",
          "name": "stderr",
          "text": [
            "<ipython-input-5-d6b8de0340dc>:9: SettingWithCopyWarning: \n",
            "A value is trying to be set on a copy of a slice from a DataFrame.\n",
            "Try using .loc[row_indexer,col_indexer] = value instead\n",
            "\n",
            "See the caveats in the documentation: https://pandas.pydata.org/pandas-docs/stable/user_guide/indexing.html#returning-a-view-versus-a-copy\n",
            "  df_cleaned['Article text'] = df_cleaned['Article text'].apply(remove_cnn_phrase)\n"
          ]
        }
      ]
    },
    {
      "cell_type": "markdown",
      "source": [
        "# Converting and Cleaning 'Date Published' Column\n",
        "Following converts the 'Date published' column to datetime format, identifies any invalid dates, and drops rows with unconvertible dates. Finally, the shape of the cleaned dataset is checked to confirm the number of remaining rows."
      ],
      "metadata": {
        "id": "J-7X-yfgMwrH"
      }
    },
    {
      "cell_type": "code",
      "source": [
        "# Convert 'Date published' to datetime format\n",
        "df_cleaned['Date published'] = pd.to_datetime(df_cleaned['Date published'], errors='coerce')\n",
        "\n",
        "# Check for any invalid dates that couldn't be converted\n",
        "print(\"\\nInvalid dates after conversion:\")\n",
        "print(df_cleaned[df_cleaned['Date published'].isnull()])\n",
        "\n",
        "# Drop rows with invalid dates, if necessary\n",
        "df_cleaned = df_cleaned.dropna(subset=['Date published'])\n",
        "\n",
        "# Check final shape of the cleaned dataset\n",
        "print(\"\\nFinal dataset shape after cleaning:\")\n",
        "print(df_cleaned.shape)"
      ],
      "metadata": {
        "colab": {
          "base_uri": "https://localhost:8080/"
        },
        "id": "oHUq0BijA5re",
        "outputId": "a3100cb4-e140-46aa-8e11-1ba8e51e3c74"
      },
      "execution_count": 6,
      "outputs": [
        {
          "output_type": "stream",
          "name": "stdout",
          "text": [
            "\n",
            "Invalid dates after conversion:\n",
            "Empty DataFrame\n",
            "Columns: [Index, Author, Date published, Category, Section, Url, Headline, Description, Keywords, Second headline, Article text]\n",
            "Index: []\n",
            "\n",
            "Final dataset shape after cleaning:\n",
            "(37940, 11)\n"
          ]
        },
        {
          "output_type": "stream",
          "name": "stderr",
          "text": [
            "<ipython-input-6-c97cd517248b>:2: SettingWithCopyWarning: \n",
            "A value is trying to be set on a copy of a slice from a DataFrame.\n",
            "Try using .loc[row_indexer,col_indexer] = value instead\n",
            "\n",
            "See the caveats in the documentation: https://pandas.pydata.org/pandas-docs/stable/user_guide/indexing.html#returning-a-view-versus-a-copy\n",
            "  df_cleaned['Date published'] = pd.to_datetime(df_cleaned['Date published'], errors='coerce')\n"
          ]
        }
      ]
    },
    {
      "cell_type": "markdown",
      "source": [
        "# Preprocessing Article Text\n",
        "Below code performs text preprocessing on the 'Article text' column by converting the text to lowercase, removing punctuation and special characters, tokenizing the text, and filtering out stop words. The cleaned text is stored in a new column, 'cleaned_text', and the first few rows are displayed to verify the changes."
      ],
      "metadata": {
        "id": "3FKmXaVeNVY3"
      }
    },
    {
      "cell_type": "code",
      "source": [
        "import re\n",
        "import nltk\n",
        "from nltk.corpus import stopwords\n",
        "from nltk.tokenize import word_tokenize\n",
        "\n",
        "# Download stopwords from NLTK\n",
        "nltk.download('stopwords')\n",
        "nltk.download('punkt')\n",
        "\n",
        "# Define stop words\n",
        "stop_words = set(stopwords.words('english'))\n",
        "\n",
        "# Function for text preprocessing\n",
        "def preprocess_text(text):\n",
        "    # Lowercase the text\n",
        "    text = text.lower()\n",
        "\n",
        "    # Remove punctuation and special characters\n",
        "    text = re.sub(r'[^\\w\\s]', '', text)\n",
        "\n",
        "    # Tokenize the text\n",
        "    words = word_tokenize(text)\n",
        "\n",
        "    # Remove stop words\n",
        "    words = [word for word in words if word not in stop_words]\n",
        "\n",
        "    # Join the words back into a single string\n",
        "    return ' '.join(words)\n",
        "\n",
        "# Apply preprocessing to the 'Article text' column\n",
        "df_cleaned['cleaned_text'] = df_cleaned['Article text'].apply(preprocess_text)\n",
        "\n",
        "# Check the first few rows of the cleaned text\n",
        "print(df_cleaned[['Article text', 'cleaned_text']].head())"
      ],
      "metadata": {
        "colab": {
          "base_uri": "https://localhost:8080/"
        },
        "id": "I2dFMFgTBEZZ",
        "outputId": "0cc785a2-c798-4ce4-94e7-5999d66e0d8b"
      },
      "execution_count": 7,
      "outputs": [
        {
          "output_type": "stream",
          "name": "stderr",
          "text": [
            "[nltk_data] Downloading package stopwords to /root/nltk_data...\n",
            "[nltk_data]   Unzipping corpora/stopwords.zip.\n",
            "[nltk_data] Downloading package punkt to /root/nltk_data...\n",
            "[nltk_data]   Unzipping tokenizers/punkt.zip.\n"
          ]
        },
        {
          "output_type": "stream",
          "name": "stdout",
          "text": [
            "                                        Article text  \\\n",
            "0  Right now, there's a shortage of truck drivers...   \n",
            "1  Working in a factory or warehouse can mean doi...   \n",
            "2  In a Hong Kong warehouse, a swarm of autonomou...   \n",
            "3  The pandemic thrust the working world into a n...   \n",
            "4  New York (CNN Business)March Madness isn't jus...   \n",
            "\n",
            "                                        cleaned_text  \n",
            "0  right theres shortage truck drivers us worldwi...  \n",
            "1  working factory warehouse mean task repetition...  \n",
            "2  hong kong warehouse swarm autonomous robots wo...  \n",
            "3  pandemic thrust working world new reality marc...  \n",
            "4  new york cnn businessmarch madness isnt colleg...  \n"
          ]
        }
      ]
    },
    {
      "cell_type": "markdown",
      "source": [
        "# Text Tokenization and Sequence Preparation\n",
        "Following initializes a tokenizer to convert the cleaned article text into sequences of integers, using the top 20,000 most frequent words and padding sequences to a maximum length of 100. Additionally, it encodes the article categories into integer labels for classification. Finally, the shapes of the processed feature and label datasets are printed for verification."
      ],
      "metadata": {
        "id": "Ox8YDqNQNxd5"
      }
    },
    {
      "cell_type": "code",
      "source": [
        "from tensorflow.keras.preprocessing.text import Tokenizer\n",
        "from tensorflow.keras.preprocessing.sequence import pad_sequences\n",
        "\n",
        "# Define the maximum number of words to use (top 20,000 most frequent words)\n",
        "max_words = 20000\n",
        "# Define the maximum length of a sequence (for padding)\n",
        "max_len = 100\n",
        "\n",
        "# Initialize the tokenizer and fit on the cleaned text\n",
        "tokenizer = Tokenizer(num_words=max_words)\n",
        "tokenizer.fit_on_texts(df_cleaned['cleaned_text'])\n",
        "\n",
        "# Convert text to sequences of integers\n",
        "sequences = tokenizer.texts_to_sequences(df_cleaned['cleaned_text'])\n",
        "\n",
        "# Apply padding to ensure all sequences have the same length\n",
        "X = pad_sequences(sequences, maxlen=max_len)\n",
        "\n",
        "# Convert categories to integer labels (for classification)\n",
        "from sklearn.preprocessing import LabelEncoder\n",
        "\n",
        "# Initialize the label encoder\n",
        "label_encoder = LabelEncoder()\n",
        "y = label_encoder.fit_transform(df_cleaned['Category'])\n",
        "\n",
        "# Print shapes of the final processed data\n",
        "print(\"Shape of X (features):\", X.shape)\n",
        "print(\"Shape of y (labels):\", y.shape)\n"
      ],
      "metadata": {
        "colab": {
          "base_uri": "https://localhost:8080/"
        },
        "id": "yDekxu5UB9GR",
        "outputId": "f004b9dd-89fd-4c10-b36f-79f7a4a17ce1"
      },
      "execution_count": 8,
      "outputs": [
        {
          "output_type": "stream",
          "name": "stdout",
          "text": [
            "Shape of X (features): (37940, 100)\n",
            "Shape of y (labels): (37940,)\n"
          ]
        }
      ]
    },
    {
      "cell_type": "markdown",
      "source": [
        "# GRU Model Definition and Training\n",
        "Below code defines and trains a Gated Recurrent Unit (GRU) model for text classification. The model includes an embedding layer, a GRU layer with L2 regularization and dropout for regularization, and a dense output layer. It incorporates callbacks for learning rate reduction and early stopping based on validation loss to enhance training efficiency. The model is compiled with the Adam optimizer and trained on the preprocessed dataset for 20 epochs."
      ],
      "metadata": {
        "id": "ixcKJGUHOPc2"
      }
    },
    {
      "cell_type": "code",
      "source": [
        "from tensorflow.keras.layers import GRU\n",
        "import tensorflow as tf\n",
        "from tensorflow.keras.models import Sequential\n",
        "from tensorflow.keras.layers import Embedding, Dense\n",
        "from tensorflow.keras.layers import Dropout\n",
        "from tensorflow.keras.regularizers import l2\n",
        "from tensorflow.keras.callbacks import ReduceLROnPlateau, EarlyStopping\n",
        "\n",
        "# Define callbacks\n",
        "reduce_lr = ReduceLROnPlateau(monitor='val_loss', factor=0.2, patience=3, min_lr=0.0001)\n",
        "early_stopping = EarlyStopping(monitor='val_loss', patience=5, restore_best_weights=True)\n",
        "\n",
        "# Define the GRU model with higher L2 regularization and learning rate scheduling\n",
        "model = Sequential()\n",
        "\n",
        "# Embedding layer\n",
        "model.add(Embedding(input_dim=max_words, output_dim=128))\n",
        "\n",
        "# GRU layer with L2 regularization and dropout\n",
        "model.add(GRU(128, activation='tanh', kernel_regularizer=l2(0.05)))\n",
        "model.add(Dropout(0.5))\n",
        "\n",
        "# Output layer with L2 regularization\n",
        "model.add(Dense(9, activation='softmax', kernel_regularizer=l2(0.05)))\n",
        "\n",
        "# Compile the model\n",
        "model.compile(optimizer='adam', loss='sparse_categorical_crossentropy', metrics=['accuracy'])\n",
        "\n",
        "# Train the model with learning rate scheduling and early stopping\n",
        "history_gru_trained = model.fit(X, y, epochs=20, batch_size=64, validation_split=0.2, callbacks=[reduce_lr, early_stopping])\n"
      ],
      "metadata": {
        "colab": {
          "base_uri": "https://localhost:8080/"
        },
        "id": "nT1VaZmkCh2L",
        "outputId": "bf87a3f9-bd09-477e-b22b-dff7c2a16324"
      },
      "execution_count": 15,
      "outputs": [
        {
          "output_type": "stream",
          "name": "stdout",
          "text": [
            "Epoch 1/20\n",
            "\u001b[1m475/475\u001b[0m \u001b[32m━━━━━━━━━━━━━━━━━━━━\u001b[0m\u001b[37m\u001b[0m \u001b[1m7s\u001b[0m 12ms/step - accuracy: 0.4931 - loss: 3.7805 - val_accuracy: 0.7889 - val_loss: 0.7497 - learning_rate: 0.0010\n",
            "Epoch 2/20\n",
            "\u001b[1m475/475\u001b[0m \u001b[32m━━━━━━━━━━━━━━━━━━━━\u001b[0m\u001b[37m\u001b[0m \u001b[1m4s\u001b[0m 9ms/step - accuracy: 0.7186 - loss: 1.0332 - val_accuracy: 0.9599 - val_loss: 0.3458 - learning_rate: 0.0010\n",
            "Epoch 3/20\n",
            "\u001b[1m475/475\u001b[0m \u001b[32m━━━━━━━━━━━━━━━━━━━━\u001b[0m\u001b[37m\u001b[0m \u001b[1m6s\u001b[0m 10ms/step - accuracy: 0.8335 - loss: 0.6870 - val_accuracy: 0.9651 - val_loss: 0.2906 - learning_rate: 0.0010\n",
            "Epoch 4/20\n",
            "\u001b[1m475/475\u001b[0m \u001b[32m━━━━━━━━━━━━━━━━━━━━\u001b[0m\u001b[37m\u001b[0m \u001b[1m5s\u001b[0m 10ms/step - accuracy: 0.8431 - loss: 0.6327 - val_accuracy: 0.9649 - val_loss: 0.3447 - learning_rate: 0.0010\n",
            "Epoch 5/20\n",
            "\u001b[1m475/475\u001b[0m \u001b[32m━━━━━━━━━━━━━━━━━━━━\u001b[0m\u001b[37m\u001b[0m \u001b[1m4s\u001b[0m 9ms/step - accuracy: 0.8444 - loss: 0.5741 - val_accuracy: 0.9294 - val_loss: 0.3777 - learning_rate: 0.0010\n",
            "Epoch 6/20\n",
            "\u001b[1m475/475\u001b[0m \u001b[32m━━━━━━━━━━━━━━━━━━━━\u001b[0m\u001b[37m\u001b[0m \u001b[1m6s\u001b[0m 11ms/step - accuracy: 0.8717 - loss: 0.4950 - val_accuracy: 0.9291 - val_loss: 0.3413 - learning_rate: 0.0010\n",
            "Epoch 7/20\n",
            "\u001b[1m475/475\u001b[0m \u001b[32m━━━━━━━━━━━━━━━━━━━━\u001b[0m\u001b[37m\u001b[0m \u001b[1m4s\u001b[0m 9ms/step - accuracy: 0.8970 - loss: 0.4155 - val_accuracy: 0.9415 - val_loss: 0.2858 - learning_rate: 2.0000e-04\n",
            "Epoch 8/20\n",
            "\u001b[1m475/475\u001b[0m \u001b[32m━━━━━━━━━━━━━━━━━━━━\u001b[0m\u001b[37m\u001b[0m \u001b[1m5s\u001b[0m 9ms/step - accuracy: 0.9023 - loss: 0.3933 - val_accuracy: 0.9348 - val_loss: 0.2992 - learning_rate: 2.0000e-04\n",
            "Epoch 9/20\n",
            "\u001b[1m475/475\u001b[0m \u001b[32m━━━━━━━━━━━━━━━━━━━━\u001b[0m\u001b[37m\u001b[0m \u001b[1m6s\u001b[0m 11ms/step - accuracy: 0.9083 - loss: 0.3751 - val_accuracy: 0.9192 - val_loss: 0.3396 - learning_rate: 2.0000e-04\n",
            "Epoch 10/20\n",
            "\u001b[1m475/475\u001b[0m \u001b[32m━━━━━━━━━━━━━━━━━━━━\u001b[0m\u001b[37m\u001b[0m \u001b[1m10s\u001b[0m 11ms/step - accuracy: 0.9108 - loss: 0.3678 - val_accuracy: 0.9323 - val_loss: 0.3005 - learning_rate: 2.0000e-04\n",
            "Epoch 11/20\n",
            "\u001b[1m475/475\u001b[0m \u001b[32m━━━━━━━━━━━━━━━━━━━━\u001b[0m\u001b[37m\u001b[0m \u001b[1m9s\u001b[0m 9ms/step - accuracy: 0.9127 - loss: 0.3531 - val_accuracy: 0.9399 - val_loss: 0.2835 - learning_rate: 1.0000e-04\n",
            "Epoch 12/20\n",
            "\u001b[1m475/475\u001b[0m \u001b[32m━━━━━━━━━━━━━━━━━━━━\u001b[0m\u001b[37m\u001b[0m \u001b[1m6s\u001b[0m 11ms/step - accuracy: 0.9152 - loss: 0.3433 - val_accuracy: 0.9209 - val_loss: 0.3388 - learning_rate: 1.0000e-04\n",
            "Epoch 13/20\n",
            "\u001b[1m475/475\u001b[0m \u001b[32m━━━━━━━━━━━━━━━━━━━━\u001b[0m\u001b[37m\u001b[0m \u001b[1m5s\u001b[0m 9ms/step - accuracy: 0.9152 - loss: 0.3460 - val_accuracy: 0.9341 - val_loss: 0.3080 - learning_rate: 1.0000e-04\n",
            "Epoch 14/20\n",
            "\u001b[1m475/475\u001b[0m \u001b[32m━━━━━━━━━━━━━━━━━━━━\u001b[0m\u001b[37m\u001b[0m \u001b[1m5s\u001b[0m 9ms/step - accuracy: 0.9191 - loss: 0.3309 - val_accuracy: 0.9311 - val_loss: 0.3036 - learning_rate: 1.0000e-04\n",
            "Epoch 15/20\n",
            "\u001b[1m475/475\u001b[0m \u001b[32m━━━━━━━━━━━━━━━━━━━━\u001b[0m\u001b[37m\u001b[0m \u001b[1m6s\u001b[0m 11ms/step - accuracy: 0.9190 - loss: 0.3276 - val_accuracy: 0.9338 - val_loss: 0.3096 - learning_rate: 1.0000e-04\n",
            "Epoch 16/20\n",
            "\u001b[1m475/475\u001b[0m \u001b[32m━━━━━━━━━━━━━━━━━━━━\u001b[0m\u001b[37m\u001b[0m \u001b[1m4s\u001b[0m 9ms/step - accuracy: 0.9194 - loss: 0.3314 - val_accuracy: 0.9327 - val_loss: 0.3067 - learning_rate: 1.0000e-04\n"
          ]
        }
      ]
    },
    {
      "cell_type": "markdown",
      "source": [
        "# Loss and Accuracy Visualization\n",
        "Below section visualizes the training and validation loss and accuracy over the epochs. It creates two subplots: one for loss and another for accuracy, allowing for a clear comparison between training and validation metrics. The plots help assess the model's performance and identify potential overfitting or underfitting during training.\n"
      ],
      "metadata": {
        "id": "fKmgPau9Hgq4"
      }
    },
    {
      "cell_type": "code",
      "source": [
        "import matplotlib.pyplot as plt\n",
        "\n",
        "# Plot training & validation loss values\n",
        "plt.figure(figsize=(12, 6))\n",
        "\n",
        "# Loss plot\n",
        "plt.subplot(1, 2, 1)\n",
        "plt.plot(history_gru_trained.history['loss'], label='Training Loss')\n",
        "plt.plot(history_gru_trained.history['val_loss'], label='Validation Loss')\n",
        "plt.title('Training vs Validation Loss')\n",
        "plt.xlabel('Epochs')\n",
        "plt.ylabel('Loss')\n",
        "plt.legend()\n",
        "\n",
        "# Accuracy plot\n",
        "plt.subplot(1, 2, 2)\n",
        "plt.plot(history_gru_trained.history['accuracy'], label='Training Accuracy')\n",
        "plt.plot(history_gru_trained.history['val_accuracy'], label='Validation Accuracy')\n",
        "plt.title('Training vs Validation Accuracy')\n",
        "plt.xlabel('Epochs')\n",
        "plt.ylabel('Accuracy')\n",
        "plt.legend()\n",
        "\n",
        "# Show the plots\n",
        "plt.tight_layout()\n",
        "plt.show()"
      ],
      "metadata": {
        "colab": {
          "base_uri": "https://localhost:8080/",
          "height": 607
        },
        "id": "qyQwQYYNHoJS",
        "outputId": "9eee6eef-49bf-4ff3-e928-30bf97f6467a"
      },
      "execution_count": 16,
      "outputs": [
        {
          "output_type": "display_data",
          "data": {
            "text/plain": [
              "<Figure size 1200x600 with 2 Axes>"
            ],
            "image/png": "[encoded data removed]"
          },
          "metadata": {}
        }
      ]
    }
  ]
}